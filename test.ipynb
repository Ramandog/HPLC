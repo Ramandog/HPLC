{
 "cells": [
  {
   "attachments": {},
   "cell_type": "markdown",
   "metadata": {},
   "source": [
    "导入样品txt"
   ]
  },
  {
   "cell_type": "code",
   "execution_count": 2,
   "metadata": {},
   "outputs": [],
   "source": [
    "file = open('GLPrprt.txt','r',encoding='utf-16')  #打开文件\n",
    "#file = open('GLPrprt.txt').read().decode('gbk','ignore')\n",
    "file_data = file.readlines() #读取所有行"
   ]
  },
  {
   "cell_type": "code",
   "execution_count": 62,
   "metadata": {},
   "outputs": [],
   "source": [
    "#寻峰面积\n",
    "def findpink(input,T=10.85, alpha=0.29) :   \n",
    "\n",
    "    file_data = input  \n",
    "    l = len(file_data) #总行数\n",
    "    index= []\n",
    "    output = []\n",
    "    i=0 #查询行数计数\n",
    "    s1 = True\n",
    "    s2 = False #判断开始查询参数\n",
    "    serial = 0 #序号\n",
    "    spikei = 0\n",
    "    \n",
    "    while s1:\n",
    "        \n",
    "        if(len(file_data[i].split('-'))==51):\n",
    "            serial += 1\n",
    "            #写入serial\n",
    "            i += 1\n",
    "            s2 = True\n",
    "            ###\n",
    "            if file_data[i].split('-'):\n",
    "                pass\n",
    "            index.append(i)\n",
    "            ###\n",
    "\n",
    "        while s2:\n",
    "\n",
    "            #if len(file_data[i].split(' ')[3])==0:\n",
    "            t = float(file_data[i].split('    ')[0][::-1].split(' ')[1][::-1])\n",
    "            if t >= T-alpha and t <= T+alpha:\n",
    "                spikei = 0 #峰值初始化\n",
    "                splt = (file_data[i].split('    ')[1]).split(' ')\n",
    "                for j in range(1,len(splt)):\n",
    "                    if splt[j] != '':\n",
    "                        spi = float(splt[j])\n",
    "                        break\n",
    "\n",
    "                if spi > spikei:\n",
    "                    spikei=spi\n",
    "                \n",
    "            i += 1\n",
    "\n",
    "            if(len(file_data[i].split('A'))==2):\n",
    "                i+=1    \n",
    "            if(len(file_data[i].split('.'))!=6):\n",
    "                output.append(spikei)\n",
    "                s2 = False #表格内查询结束\n",
    "\n",
    "        i += 1\n",
    "        if i>=l:\n",
    "            s1 = False\n",
    "            break\n",
    "    return output\n",
    "#寻样品名\n",
    "def name(list):\n",
    "    output = []\n",
    "    for i in range(len(list)):\n",
    "        if len(list[i].split('样品名称:'))==2:\n",
    "            name = (list[i].split(': '))[1].split('\\n')[0]\n",
    "            #print(i, name)\n",
    "            output.append(name)\n",
    "    print(len(output))\n",
    "    return output"
   ]
  },
  {
   "attachments": {},
   "cell_type": "markdown",
   "metadata": {},
   "source": [
    "寻峰面积"
   ]
  },
  {
   "cell_type": "code",
   "execution_count": 59,
   "metadata": {},
   "outputs": [
    {
     "data": {
      "text/plain": [
       "56"
      ]
     },
     "execution_count": 59,
     "metadata": {},
     "output_type": "execute_result"
    }
   ],
   "source": [
    "test = findpink(file_data,T=24.895, alpha=0.29) #T:出峰时间;alpha:出峰偏差时间\n",
    "len(test)"
   ]
  },
  {
   "attachments": {},
   "cell_type": "markdown",
   "metadata": {},
   "source": [
    "合并保存"
   ]
  },
  {
   "cell_type": "code",
   "execution_count": 60,
   "metadata": {},
   "outputs": [
    {
     "name": "stdout",
     "output_type": "stream",
     "text": [
      "56\n"
     ]
    }
   ],
   "source": [
    "import numpy as np\n",
    "\n",
    "Name= np.array(name(file_data)).reshape(-1,1)\n",
    "Spk= np.array(test).reshape(-1,1)\n",
    "Output = np.append(Name, Spk, axis=1)\n",
    "np.savetxt('eth.csv',Output, delimiter=\",\", comments=\"\", fmt='%s')"
   ]
  }
 ],
 "metadata": {
  "kernelspec": {
   "display_name": "test1",
   "language": "python",
   "name": "python3"
  },
  "language_info": {
   "codemirror_mode": {
    "name": "ipython",
    "version": 3
   },
   "file_extension": ".py",
   "mimetype": "text/x-python",
   "name": "python",
   "nbconvert_exporter": "python",
   "pygments_lexer": "ipython3",
   "version": "3.6.8"
  },
  "orig_nbformat": 4
 },
 "nbformat": 4,
 "nbformat_minor": 2
}
